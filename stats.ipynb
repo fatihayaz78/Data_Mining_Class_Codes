{
 "cells": [
  {
   "cell_type": "markdown",
   "metadata": {},
   "source": [
    "## Statistical Preliminaries\n",
    "\n",
    "(by Tevfik Aytekin)"
   ]
  },
  {
   "cell_type": "code",
   "execution_count": 1,
   "metadata": {},
   "outputs": [],
   "source": [
    "import matplotlib.pyplot as plt\n",
    "import numpy as np\n",
    "from scipy import stats\n",
    "import seaborn as sns\n"
   ]
  },
  {
   "cell_type": "markdown",
   "metadata": {},
   "source": [
    "### mean (expected value)\n",
    "\n",
    "Let $X$ be a discrete random variable with outcomes $x_1, x_2, ..., x_k$ and with a PMF $f(x_i)$ then the expected value of $X$ is given  by:\n",
    "$$\n",
    "E(X) = \\mu = \\sum_{i=1}^{k}x_if(x_i)\n",
    "$$\n",
    "\n",
    "and sample mean is given by:\n",
    "$$\\bar{x} = \\frac{\\sum_{i=1}^n x_{i}}{n}$$"
   ]
  },
  {
   "cell_type": "code",
   "execution_count": 2,
   "metadata": {},
   "outputs": [
    {
     "data": {
      "text/plain": [
       "5.5"
      ]
     },
     "execution_count": 2,
     "metadata": {},
     "output_type": "execute_result"
    }
   ],
   "source": [
    "X = [1, 2, 9, 10]\n",
    "np.mean(X)"
   ]
  },
  {
   "cell_type": "markdown",
   "metadata": {},
   "source": [
    "### variance\n",
    "\n",
    "Variance indicates the spread of the data. Variance of a random variable $X$ is given by\n",
    "\n",
    "$$\n",
    "Var(X)=\\sigma^2=\\sum_{i=1}^{k}(x_i-E(X))^2f(x_i)\n",
    "$$\n",
    "\n",
    "\n",
    "and sample variance is given by:\n",
    "\n",
    "$$s^2 = \\frac{\\sum_{i=1}^n (x_{i} - \\bar{x} )^2}{n}$$"
   ]
  },
  {
   "cell_type": "code",
   "execution_count": 4,
   "metadata": {},
   "outputs": [
    {
     "data": {
      "text/plain": [
       "5.5"
      ]
     },
     "execution_count": 4,
     "metadata": {},
     "output_type": "execute_result"
    }
   ],
   "source": [
    "Y = [4, 5, 6, 7]\n",
    "np.mean(Y)"
   ]
  },
  {
   "cell_type": "code",
   "execution_count": 5,
   "metadata": {},
   "outputs": [
    {
     "name": "stdout",
     "output_type": "stream",
     "text": [
      "16.25\n",
      "1.25\n"
     ]
    }
   ],
   "source": [
    "# Even though their mean is the same their variance is quite different.\n",
    "print(np.var(X))\n",
    "print(np.var(Y))"
   ]
  },
  {
   "cell_type": "markdown",
   "metadata": {},
   "source": [
    "### standard deviation\n",
    "Standard deviation is just the square root of variance:\n",
    "$$\n",
    "\\sigma = \\sqrt{\\sum_{i=1}^{k}(x_i-E(X))^2f(x_i)}\n",
    "$$\n",
    "sample standard deviation:\n",
    "$$\n",
    "s = \\sqrt{\\frac{\\sum_{i=1}^n (x_{i} - \\bar{x} )^2}{n}}\n",
    "$$"
   ]
  },
  {
   "cell_type": "markdown",
   "metadata": {},
   "source": [
    "### covariance\n",
    "Covariance is a measure indicating how to random variables $X$ and $Y$ vary together. \n",
    "\n",
    "$$\n",
    "Cov(X,Y) = E((X - \\mu_X)(Y - \\mu_Y))\n",
    "$$\n",
    "which can also be written as:\n",
    "$$\n",
    "Cov(X,Y) = \\sum_{i=1}^k\\sum_{j=1}^l(x_i-\\mu_X)(y_j-\\mu_Y)f(x_i,y_j)\n",
    "$$\n",
    "\n",
    "In order to calculate covariance we need to define the joint probability distribution function $f(x,y)$. For example the following table defines the pmf of two random variables $X$ and $Y$ which can take on the values 2, 4 and 3, 5, 7 respectively.\n",
    "\n",
    "<table>\n",
    " <tr>\n",
    "    <td></td><td>3</td><td>5</td><td>7</td>\n",
    "</tr>\n",
    "<tr>\n",
    "    <td>2</td><td>0.3</td><td>0.1</td><td>0.2</td>\n",
    "</tr>\n",
    "<tr>\n",
    "    <td>4</td><td>0.1</td><td>0.1</td><td>0.2</td>\n",
    "</tr>\n",
    "</table>\n",
    "\n",
    "Given this pmf:<br>\n",
    "$E(X) = 3$<br>\n",
    "$E(Y) = 5$<br>\n",
    "$Cov(X,Y) = (2-3)*(3-5)*0.3 + (2-3)*(5-5)*0.1 + (2-3)*(7-5)*0.2 + (4-3)*(3-5)*0.1 + (4-3)*(5-5)*0.1 + (4-3)*(7-5)*0.2 = 0.4$\n",
    "\n",
    "Recall that joint probability distribution function gives the probability of observing the particular values of the random variables at the same time (or the propability of their co-occurrence). For example, according to the above table $P(X=2, Y=7) = 0.2$. "
   ]
  },
  {
   "cell_type": "markdown",
   "metadata": {},
   "source": [
    "Sample covariance is given by:\n",
    "\n",
    "$$\n",
    "Cov(X,Y) = \\frac{\\sum_{i=1}^n (x_{i} - \\bar{x})(y_{i} - \\bar{y})}{n}\n",
    "$$\n",
    "\n",
    "The above formula assumes that we are given the outcomes of $n$ repetitions of an experiment. $x_{i}$ and $y_{i}$ are the co-occurred outcomes of the random variables $X$ and $Y$, respectively."
   ]
  },
  {
   "cell_type": "code",
   "execution_count": 6,
   "metadata": {},
   "outputs": [
    {
     "name": "stdout",
     "output_type": "stream",
     "text": [
      "[[16.25  4.25]\n",
      " [ 4.25  1.25]]\n"
     ]
    }
   ],
   "source": [
    "print(np.cov(X,Y,bias=True))"
   ]
  },
  {
   "cell_type": "code",
   "execution_count": 7,
   "metadata": {},
   "outputs": [],
   "source": [
    "def mycov(X,Y):\n",
    "    return np.dot((X - np.mean(X)),(Y - np.mean(Y)))/len(X)"
   ]
  },
  {
   "cell_type": "code",
   "execution_count": 8,
   "metadata": {},
   "outputs": [],
   "source": [
    "X = np.array([4, 4, 6, 7, 10])\n",
    "Y = np.array([2, 3, 7, 8, 10])"
   ]
  },
  {
   "cell_type": "code",
   "execution_count": 9,
   "metadata": {},
   "outputs": [
    {
     "name": "stdout",
     "output_type": "stream",
     "text": [
      "6.2\n",
      "6.0\n",
      "6.4\n",
      "[[4.96 6.4 ]\n",
      " [6.4  9.2 ]]\n"
     ]
    }
   ],
   "source": [
    "print(np.mean(X))\n",
    "print(np.mean(Y))\n",
    "print(mycov(X,Y))\n",
    "print(np.cov(X,Y,bias=True))\n"
   ]
  },
  {
   "cell_type": "markdown",
   "metadata": {},
   "source": [
    "### correlation (Pearson)\n",
    "Correlation is a scaled version of covariance (between -1 and 1); note that the two parameters always have the same sign (positive, negative, or 0). When the sign is positive, the variables are said to be positively correlated; when the sign is negative, the variables are said to be negatively correlated; and when the sign is 0, the variables are said to be uncorrelated.\n",
    "\n",
    "$$Cor(X,Y) = \\frac{Cov(X,Y)}{\\sigma_X \\sigma_Y}$$"
   ]
  },
  {
   "cell_type": "markdown",
   "metadata": {},
   "source": [
    "**Exercise:** Try changing the fourth value of X to 100 and recalculate covariance and correlation."
   ]
  },
  {
   "cell_type": "markdown",
   "metadata": {},
   "source": [
    "### Normal distribution"
   ]
  },
  {
   "cell_type": "markdown",
   "metadata": {},
   "source": [
    "PDF of normal distribution:\n",
    "$$\n",
    "f(x; \\mu, \\sigma^2) = \\frac{1}{ \\sqrt{2\\pi\\sigma }}\\textrm{exp}\\left(\\frac{-(x - \\mu)^2}{2\\sigma ^2 }   \\right) \n",
    "$$"
   ]
  },
  {
   "cell_type": "code",
   "execution_count": null,
   "metadata": {},
   "outputs": [],
   "source": [
    "# Plot between -10 and 10 with .01 steps.\n",
    "x = np.arange(-10, 10, 0.01)\n",
    "# Mean = 0, Std = 2. You can play wth these parameters.\n",
    "plt.plot(x, stats.norm.pdf(x,0,2))"
   ]
  },
  {
   "cell_type": "code",
   "execution_count": null,
   "metadata": {},
   "outputs": [],
   "source": [
    "#Generate numbers from a normal distribution\n",
    "import numpy as np\n",
    "import matplotlib.pyplot as plt\n",
    "\n",
    "mu, sigma = 0, 0.1 # mean and standard deviation\n",
    "x = np.random.normal(mu, sigma, 100)\n",
    "y = np.ones(100)\n",
    "plt.subplots(figsize=(20,4))\n",
    "plt.scatter(x,y)"
   ]
  },
  {
   "cell_type": "code",
   "execution_count": null,
   "metadata": {},
   "outputs": [],
   "source": [
    "# plot a histogram\n",
    "plt.hist(x,20);"
   ]
  },
  {
   "cell_type": "code",
   "execution_count": null,
   "metadata": {},
   "outputs": [],
   "source": [
    "# Multivariate (2D) normal distribution where x and y are independent\n",
    "# You can play with the mean and std values.\n",
    "x = np.random.normal(0, 1, 100)\n",
    "y = np.random.normal(0, 3, 100)\n",
    "plt.scatter(x,y)\n",
    "plt.xlim(-10, 10);\n",
    "plt.ylim(-10, 10);"
   ]
  },
  {
   "cell_type": "code",
   "execution_count": null,
   "metadata": {},
   "outputs": [],
   "source": [
    "mean = [0.5, -0.2]\n",
    "cov = [[5, 2], [2, 3]]\n",
    "x,y = np.random.multivariate_normal(mean,cov,500).T\n",
    "plt.scatter(x,y); \n",
    "plt.xlim(-10, 10);\n",
    "plt.ylim(-10, 10);"
   ]
  },
  {
   "cell_type": "markdown",
   "metadata": {},
   "source": [
    "### Cumulative Distribution Function\n",
    "\n",
    "The cdf($x$) is the probability of a real valued random variable to have a value $x$ or less. For example, cdf of a standard normal variable at 0.6 is:"
   ]
  },
  {
   "cell_type": "code",
   "execution_count": null,
   "metadata": {},
   "outputs": [],
   "source": [
    "\n",
    "stats.norm.cdf(0.6, loc=0, scale=1)"
   ]
  },
  {
   "cell_type": "markdown",
   "metadata": {},
   "source": [
    "which is equal to the orange area shown below"
   ]
  },
  {
   "cell_type": "code",
   "execution_count": null,
   "metadata": {},
   "outputs": [],
   "source": [
    "mu = 0; std = 1\n",
    "x = np.arange(-5,5,0.1)\n",
    "y = stats.norm.pdf(x,mu,std)\n",
    "plt.plot(x,y)\n",
    "x = x[x<0.6]\n",
    "plt.fill_between(x,0, stats.norm.pdf(x,mu,std), color=\"orange\")"
   ]
  },
  {
   "cell_type": "markdown",
   "metadata": {},
   "source": [
    "### Percent point function (inverse of cdf ).\n",
    "\n",
    "The ppf($x$) is the value whose cdf is $x$. For example, ppf of a standard normal variable at 0.726 is:"
   ]
  },
  {
   "cell_type": "code",
   "execution_count": null,
   "metadata": {},
   "outputs": [],
   "source": [
    "stats.norm.ppf(0.726, loc=0, scale=1)"
   ]
  },
  {
   "cell_type": "code",
   "execution_count": null,
   "metadata": {},
   "outputs": [],
   "source": [
    "stats.norm.cdf(1.09, loc=0, scale=1)"
   ]
  },
  {
   "cell_type": "markdown",
   "metadata": {},
   "source": [
    "### Z "
   ]
  },
  {
   "cell_type": "markdown",
   "metadata": {},
   "source": [
    "### Distributions and Sampling Distributions\n",
    "\n",
    "Sampling distribution is the probability distribution of a statistic based on a large number of samples (or as the number of samples goes to infinity) of size $n$ from a given population.\n",
    "\n",
    "It is possible to show that the mean of the sampling distibution of the mean $\\mu_{\\bar x} = \\mu$ and the std of the sampling distibution of the mean $\\sigma_{\\bar x} = \\frac{\\sigma}{\\sqrt{n}}$. You check these empirically using the code below.\n",
    "\n",
    "#### Normal Distribution\n",
    "Below are examples of normal distributions and sampling distributions from normally distributed populations. You can play with the population mean, population std, and the sample size."
   ]
  },
  {
   "cell_type": "code",
   "execution_count": null,
   "metadata": {},
   "outputs": [],
   "source": [
    "fig, ax = plt.subplots(2, 2)\n",
    "fig.set_size_inches(12,10)\n",
    "\n",
    "n_samplings = 10000 # If you increase n_samples you will get a smoother histogram\n",
    "\n",
    "mu = 0; sigma = 4\n",
    "x = []\n",
    "for i in range(n_samplings):\n",
    "    sample = stats.norm.rvs(mu,sigma)\n",
    "    x.append(sample)\n",
    "ax[0,0].hist(x,30);\n",
    "ax[0,0].set_title(\"Normal Distribution, $\\mu = 0, \\sigma = 4$\")\n",
    "ax[0,0].set_xlim(-15,15)\n",
    "\n",
    "mu = 2; sigma = 1\n",
    "x = []\n",
    "for i in range(n_samplings):\n",
    "    sample = stats.norm.rvs(mu,sigma)\n",
    "    x.append(sample)\n",
    "ax[0,1].hist(x,30);\n",
    "ax[0,1].set_title(\"Normal Distribution, $\\mu = 2, \\sigma = 1$\")\n",
    "ax[0,1].set_xlim(-15,15)\n",
    "\n",
    "sample_size = 10  # If you increase sample_size what happens to sample std of the mean?\n",
    "mu = 0; sigma = 4\n",
    "x = []\n",
    "for i in range(n_samplings):\n",
    "    sample = stats.norm.rvs(mu, sigma, sample_size)\n",
    "    x.append(sample.mean())\n",
    "ax[1,0].hist(x,30);\n",
    "ax[1,0].set_title(\"Sampling Distribution, $\\mu = 0, \\sigma = 4, sample\\_size=10$\")\n",
    "ax[1,0].set_xlim(-15,15)\n",
    "\n",
    "mu = 0; sigma = 4\n",
    "sample_size = 50\n",
    "x = []\n",
    "for i in range(n_samplings):\n",
    "    sample = stats.norm.rvs(mu, sigma, sample_size)\n",
    "    x.append(sample.mean())\n",
    "ax[1,1].hist(x,30);\n",
    "ax[1,1].set_title(\"Sampling Distribution, $\\mu = 0, \\sigma = 4, sample\\_size=50$\")\n",
    "ax[1,1].set_xlim(-15,15)\n"
   ]
  },
  {
   "cell_type": "markdown",
   "metadata": {},
   "source": [
    "Sampling distribution of binomial distribution. \n",
    "It can be shown that the mean of a binomial distribution is $np$ and std is $\\sqrt{np(1-p)}$"
   ]
  },
  {
   "cell_type": "code",
   "execution_count": null,
   "metadata": {},
   "outputs": [],
   "source": [
    "fig, ax = plt.subplots(2, 2)\n",
    "fig.set_size_inches(12,10)\n",
    "\n",
    "n = 20  # If you increase sample_size what happens to sample std of the mean?\n",
    "p = 0.5\n",
    "sample_size = 10\n",
    "n_samplings = 10000 # If you increase n_samples you will get a smoother histogram\n",
    "\n",
    "x = []\n",
    "for i in range(n_samplings):\n",
    "    sample = stats.binom.rvs(n,p)\n",
    "    x.append(sample)\n",
    "ax[0,0].hist(x,35);\n",
    "ax[0,0].set_title(\"Binomial Distribution, n= 20, p=0.5\")\n",
    "ax[0,0].set_xlim(0,20)\n",
    "\n",
    "p = 0.8\n",
    "x = []\n",
    "for i in range(n_samplings):\n",
    "    sample = stats.binom.rvs(n,p)\n",
    "    x.append(sample)\n",
    "ax[0,1].hist(x,35);\n",
    "ax[0,1].set_title(\"Binomial Distribution, n= 20, p=0.8\")\n",
    "ax[0,1].set_xlim(0,20)\n",
    "\n",
    "p = 0.5\n",
    "x = []\n",
    "for i in range(n_samplings):\n",
    "    sample = stats.binom.rvs(n,p, size=sample_size)\n",
    "    x.append(sample.mean())\n",
    "ax[1,0].hist(x,35);\n",
    "ax[1,0].set_title(\"Sampling Distribution, n = 20, p=0.5, sample_size = 10\")\n",
    "ax[1,0].set_xlim(0,20)\n",
    "\n",
    "sample_size = 50\n",
    "p = 0.5\n",
    "x = []\n",
    "for i in range(n_samplings):\n",
    "    sample = stats.binom.rvs(n,p, size=sample_size)\n",
    "    x.append(sample.mean())\n",
    "ax[1,1].hist(x,35);\n",
    "ax[1,1].set_title(\"Sampling Distribution, n = 20, p=0.5, sample_size = 50\")\n",
    "ax[1,1].set_xlim(0,20)"
   ]
  },
  {
   "cell_type": "markdown",
   "metadata": {},
   "source": [
    "we have formulas for sampling distribution of the sample mean for normal distribution, don't we have for binomial?"
   ]
  },
  {
   "cell_type": "code",
   "execution_count": null,
   "metadata": {},
   "outputs": [],
   "source": [
    "stats.binom.rvs(n,p, size=sample_size)"
   ]
  },
  {
   "cell_type": "markdown",
   "metadata": {},
   "source": [
    "### Central Limit Theorem\n",
    "\n",
    "Given a random variable $X$ with mean $\\mu$ and std $\\sigma$, the sampling distribution of the mean approaches a normal distribution with mean $\\mu$ and std $\\frac{\\sigma}{\\sqrt{N}}$ as the sample size, $N$, increases. This holds true regardless of the distribution of $X$. It is common practice to assume CLT when the sample size is larger than 30.\n",
    "\n",
    "To test this experimentally, the following histogram shows the sampling distribution of the mean of a sample of size 100 from a population whose $\\mu=0$ and std $\\sigma=10$. You can test that $\\mu_M$ aproaches to 0 and $\\sigma_M$ approaches to $\\frac{10}{\\sqrt{100}} =1$. Actually, in this case since $X$ is normally distributed we even do not need CLT. "
   ]
  },
  {
   "cell_type": "code",
   "execution_count": null,
   "metadata": {},
   "outputs": [],
   "source": [
    "sample_size = 100\n",
    "x = []\n",
    "for i in range(1000):\n",
    "    sample = stats.norm.rvs(0,10,sample_size)\n",
    "    x.append(sample.mean())\n",
    "plt.hist(x,20);"
   ]
  },
  {
   "cell_type": "markdown",
   "metadata": {},
   "source": [
    "Let see what happens with a non-normal distribution."
   ]
  },
  {
   "cell_type": "code",
   "execution_count": null,
   "metadata": {},
   "outputs": [],
   "source": [
    "sample_size = 10000\n",
    "sample = stats.expon.rvs(size=sample_size)\n",
    "p_mean = sample.mean()\n",
    "p_std = sample.std()\n",
    "print(\"mean:\",p_mean,\"std:\",p_std)\n",
    "plt.hist(sample,20);"
   ]
  },
  {
   "cell_type": "code",
   "execution_count": null,
   "metadata": {},
   "outputs": [],
   "source": [
    "sample_size = 100\n",
    "sample_means = []\n",
    "for i in range(10000):\n",
    "    sample = stats.expon.rvs(size=sample_size)\n",
    "    sample_means.append(sample.mean())\n",
    "s_mean = np.mean(sample_means)\n",
    "s_std = np.std(sample_means)\n",
    "clt_std = p_std/np.sqrt(sample_size) \n",
    "print(\"s_mean:\",mean,\"s_std:\",std,\"clt_std:\",clt_std)\n",
    "plt.hist(x,100);"
   ]
  },
  {
   "cell_type": "code",
   "execution_count": null,
   "metadata": {},
   "outputs": [],
   "source": []
  }
 ],
 "metadata": {
  "kernelspec": {
   "display_name": "Python 3 (ipykernel)",
   "language": "python",
   "name": "python3"
  },
  "language_info": {
   "codemirror_mode": {
    "name": "ipython",
    "version": 3
   },
   "file_extension": ".py",
   "mimetype": "text/x-python",
   "name": "python",
   "nbconvert_exporter": "python",
   "pygments_lexer": "ipython3",
   "version": "3.9.18"
  }
 },
 "nbformat": 4,
 "nbformat_minor": 2
}

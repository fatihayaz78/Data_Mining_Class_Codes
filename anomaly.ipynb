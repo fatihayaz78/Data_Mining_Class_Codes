{
 "cells": [
  {
   "cell_type": "markdown",
   "metadata": {},
   "source": [
    "# Anomaly Detection\n",
    "(by Tevfik Aytekin)"
   ]
  },
  {
   "cell_type": "code",
   "execution_count": null,
   "metadata": {},
   "outputs": [],
   "source": [
    "from sklearn.datasets import make_blobs\n",
    "import numpy as np\n",
    "import matplotlib.pyplot as plt\n",
    "import scipy.stats\n",
    "import pandas as pd"
   ]
  },
  {
   "cell_type": "markdown",
   "metadata": {},
   "source": [
    "### A Simple Problem to Get Started\n",
    "Given the following data points in 2D, which points are anomalies (or outliers)? Try to think of an algorithm. "
   ]
  },
  {
   "cell_type": "code",
   "execution_count": null,
   "metadata": {},
   "outputs": [],
   "source": [
    "X, y = make_blobs(n_samples=100, n_features=2, cluster_std=1,centers=[[0, 0], [0, 0]], random_state=1)\n",
    "rand = np.random.RandomState(1)\n",
    "n_outliers=10\n",
    "X = np.concatenate([X, rand.uniform(low=-5, high=5,size=(n_outliers, 2))], axis=0)\n",
    "\n",
    "plt.scatter(X[:,0], X[:,1])\n",
    "plt.axis([-10, 10, -10, 10])\n",
    "plt.gca().set_aspect('equal', adjustable='box')"
   ]
  },
  {
   "cell_type": "code",
   "execution_count": null,
   "metadata": {},
   "outputs": [],
   "source": [
    "print(X)"
   ]
  },
  {
   "cell_type": "code",
   "execution_count": null,
   "metadata": {},
   "outputs": [],
   "source": [
    "n = X.shape[0]\n",
    "n_conts = int(n*0.1)\n",
    "n_conts"
   ]
  },
  {
   "cell_type": "code",
   "execution_count": null,
   "metadata": {},
   "outputs": [],
   "source": [
    "means = np.mean(X, axis=0)\n",
    "d = X - means\n",
    "euc = np.sqrt(np.sum(d*d, axis=1))\n",
    "s = np.argsort(euc)\n",
    "euc[s[n-n_conts]] "
   ]
  },
  {
   "cell_type": "code",
   "execution_count": null,
   "metadata": {},
   "outputs": [],
   "source": [
    "# Detects anomaly points by calculating the euclidian distance to centroids.\n",
    "class euclidian:\n",
    "    def __init__(self, contamination = 0.1):\n",
    "        self.contamination = contamination\n",
    "        \n",
    "    def fit(self, X):\n",
    "        n = X.shape[0]\n",
    "        n_conts = int(n*self.contamination)\n",
    "        self.means = np.mean(X, axis=0)\n",
    "        d = X - self.means\n",
    "        euc = np.sqrt(np.sum(d*d, axis=1))\n",
    "        s = np.argsort(euc)\n",
    "        self.cutoff_dist = euc[s[n-n_conts]] \n",
    "        \n",
    "    def predict(self, X):\n",
    "        d = X - self.means\n",
    "        euc = np.sqrt(np.sum(d*d, axis=1))\n",
    "        for i in range(len(euc)):\n",
    "            if (euc[i] > self.cutoff_dist):\n",
    "                euc[i] = 1\n",
    "            else:\n",
    "                euc[i] = -1\n",
    "        \n",
    "        return euc"
   ]
  },
  {
   "cell_type": "code",
   "execution_count": null,
   "metadata": {},
   "outputs": [],
   "source": [
    "xx, yy = np.meshgrid(np.linspace(-10, 10, 50),\n",
    "                     np.linspace(-10, 10, 50))\n",
    "alg = euclidian(contamination=0.1)\n",
    "alg.fit(X)\n",
    "Z = alg.predict(np.c_[xx.ravel(), yy.ravel()])\n",
    "Z = Z.reshape(xx.shape)\n",
    "plt.contour(xx, yy, Z, levels=[0], linewidths=2, colors='black')\n",
    "plt.scatter(X[:,0], X[:,1])\n",
    "plt.axis([-10, 10, -10, 10])\n",
    "plt.gca().set_aspect('equal', adjustable='box')"
   ]
  },
  {
   "cell_type": "markdown",
   "metadata": {},
   "source": [
    "#### A Problem with this approach"
   ]
  },
  {
   "cell_type": "code",
   "execution_count": 110,
   "metadata": {},
   "outputs": [
    {
     "data": {
      "image/png": "[encoded data removed]",
      "text/plain": [
       "<Figure size 432x288 with 1 Axes>"
      ]
     },
     "metadata": {
      "needs_background": "light"
     },
     "output_type": "display_data"
    }
   ],
   "source": [
    "mean = [0, 0]\n",
    "cov = [[0.5, 0], [0, 10]]  # diagonal covariance\n",
    "np.random.seed(1)\n",
    "x, y = np.random.multivariate_normal(mean, cov, 100).T\n",
    "X = np.c_[x, y]\n",
    "n_outliers=10\n",
    "X = np.concatenate([X, rand.uniform(low=-5, high=5,size=(n_outliers, 2))], axis=0)\n",
    "\n",
    "plt.scatter(X[:,0], X[:,1])\n",
    "plt.axis([-10, 10, -10, 10])\n",
    "plt.gca().set_aspect('equal', adjustable='box')"
   ]
  },
  {
   "cell_type": "markdown",
   "metadata": {},
   "source": [
    "Since this algorithm builds a spherical decision boundary and since the data is not spherically distributed, there are both false positives and false negatives as the following figrue illustrates."
   ]
  },
  {
   "cell_type": "code",
   "execution_count": 111,
   "metadata": {},
   "outputs": [
    {
     "data": {
      "image/png": "[encoded data removed]",
      "text/plain": [
       "<Figure size 432x288 with 1 Axes>"
      ]
     },
     "metadata": {
      "needs_background": "light"
     },
     "output_type": "display_data"
    }
   ],
   "source": [
    "xx, yy = np.meshgrid(np.linspace(-10, 10, 50),\n",
    "                     np.linspace(-10, 10, 50))\n",
    "alg = euclidian(contamination=0.05)\n",
    "alg.fit(X)\n",
    "Z = alg.predict(np.c_[xx.ravel(), yy.ravel()])\n",
    "Z = Z.reshape(xx.shape)\n",
    "plt.contour(xx, yy, Z, levels=[0], linewidths=2, colors='black')\n",
    "plt.scatter(X[:,0], X[:,1])\n",
    "plt.axis([-10, 10, -10, 10])\n",
    "plt.gca().set_aspect('equal', adjustable='box')"
   ]
  },
  {
   "cell_type": "markdown",
   "metadata": {},
   "source": [
    "### Solution\n",
    "The solution is to normalize the spread along each dimension."
   ]
  },
  {
   "cell_type": "code",
   "execution_count": 112,
   "metadata": {},
   "outputs": [],
   "source": [
    "class euclidian_normalized:\n",
    "    def __init__(self, contamination = 0.1):\n",
    "        self.contamination = contamination\n",
    "        \n",
    "    def fit(self, X):\n",
    "        n = X.shape[0]\n",
    "        n_conts = int(n*self.contamination)\n",
    "        self.vars = np.var(X, axis=0)\n",
    "        self.means = np.mean(X, axis=0)\n",
    "        d = (X / np.sqrt(self.vars)) - self.means\n",
    "        euc = np.sqrt(np.sum(d*d, axis=1))\n",
    "        s = np.argsort(euc)\n",
    "        self.cutoff_dist = euc[s[n-n_conts]] \n",
    "        \n",
    "    def predict(self, X):\n",
    "        d = (X / np.sqrt(self.vars)) - self.means\n",
    "        euc = np.sqrt(np.sum(d*d, axis=1))\n",
    "        for i in range(len(euc)):\n",
    "            if (euc[i] > self.cutoff_dist):\n",
    "                euc[i] = 1\n",
    "            else:\n",
    "                euc[i] = -1\n",
    "        \n",
    "        return euc"
   ]
  },
  {
   "cell_type": "code",
   "execution_count": 113,
   "metadata": {},
   "outputs": [
    {
     "data": {
      "image/png": "[encoded data removed]",
      "text/plain": [
       "<Figure size 432x288 with 1 Axes>"
      ]
     },
     "metadata": {
      "needs_background": "light"
     },
     "output_type": "display_data"
    }
   ],
   "source": [
    "xx, yy = np.meshgrid(np.linspace(-10, 10, 50),\n",
    "                     np.linspace(-10, 10, 50))\n",
    "alg = euclidian_normalized(contamination=0.05)\n",
    "alg.fit(X)\n",
    "Z = alg.predict(np.c_[xx.ravel(), yy.ravel()])\n",
    "Z = Z.reshape(xx.shape)\n",
    "plt.contour(xx, yy, Z, levels=[0], linewidths=2, colors='black')\n",
    "plt.scatter(X[:,0], X[:,1])\n",
    "plt.axis([-10, 10, -10, 10])\n",
    "plt.gca().set_aspect('equal', adjustable='box')"
   ]
  },
  {
   "cell_type": "markdown",
   "metadata": {},
   "source": [
    "You can also take a probabilistic approach"
   ]
  },
  {
   "cell_type": "code",
   "execution_count": 114,
   "metadata": {},
   "outputs": [],
   "source": [
    "class probabilistic:\n",
    "    def __init__(self, contamination = 0.1):\n",
    "        self.contamination = contamination\n",
    "        \n",
    "    def fit(self, X):\n",
    "        self.means = np.mean(X, axis=0)\n",
    "        self.vars = np.var(X, axis=0)\n",
    "        # Convert values into probabilities\n",
    "        probs_X = X.copy()\n",
    "        for i in range(X.shape[0]):\n",
    "            for j in range(X.shape[1]):\n",
    "                probs_X[i,j] = scipy.stats.norm(self.means[j], np.sqrt(self.vars[j])).pdf(X[i,j])\n",
    "        probs = np.prod(probs_X, axis=1)\n",
    "        n = len(probs)\n",
    "        n_conts = int(n*self.contamination)\n",
    "        s = np.argsort(probs)\n",
    "        self.cutoff_prob = probs[s[n_conts]] \n",
    "        \n",
    "    def predict(self, X):\n",
    "        probs_X = X.copy()\n",
    "        for i in range(X.shape[0]):\n",
    "            for j in range(X.shape[1]):\n",
    "                probs_X[i,j] = scipy.stats.norm(self.means[j], np.sqrt(self.vars[j])).pdf(X[i,j])\n",
    "        probs = np.prod(probs_X, axis=1)\n",
    "        for i in range(len(probs)):\n",
    "            if (probs[i] > self.cutoff_prob):\n",
    "                probs[i] = 1\n",
    "            else:\n",
    "                probs[i] = -1\n",
    "        return probs"
   ]
  },
  {
   "cell_type": "code",
   "execution_count": 115,
   "metadata": {},
   "outputs": [
    {
     "data": {
      "image/png": "[encoded data removed]",
      "text/plain": [
       "<Figure size 432x288 with 1 Axes>"
      ]
     },
     "metadata": {
      "needs_background": "light"
     },
     "output_type": "display_data"
    }
   ],
   "source": [
    "xx, yy = np.meshgrid(np.linspace(-10, 10, 50),\n",
    "                     np.linspace(-10, 10, 50))\n",
    "alg = probabilistic(contamination=0.05)\n",
    "alg.fit(X)\n",
    "Z = alg.predict(np.c_[xx.ravel(), yy.ravel()])\n",
    "Z = Z.reshape(xx.shape)\n",
    "plt.contour(xx, yy, Z, levels=[0], linewidths=2, colors='black')\n",
    "plt.scatter(X[:,0], X[:,1])\n",
    "plt.axis([-10, 10, -10, 10])\n",
    "plt.gca().set_aspect('equal', adjustable='box')"
   ]
  },
  {
   "cell_type": "markdown",
   "metadata": {},
   "source": [
    "### Another Problem"
   ]
  },
  {
   "cell_type": "code",
   "execution_count": 129,
   "metadata": {},
   "outputs": [
    {
     "data": {
      "image/png": "[encoded data removed]",
      "text/plain": [
       "<Figure size 432x288 with 1 Axes>"
      ]
     },
     "metadata": {
      "needs_background": "light"
     },
     "output_type": "display_data"
    }
   ],
   "source": [
    "mean = [0, 0]\n",
    "cov = [[1, 1.5], [1.5, 3]]  # diagonal covariance\n",
    "np.random.seed(1)\n",
    "x, y = np.random.multivariate_normal(mean, cov, 100).T\n",
    "X = np.c_[x, y]\n",
    "n_outliers=10\n",
    "X = np.concatenate([X, rand.uniform(low=-3, high=3,size=(n_outliers, 2))], axis=0)\n",
    "plt.scatter(X[:,0], X[:,1])\n",
    "plt.axis([-5, 5, -5, 5])\n",
    "plt.gca().set_aspect('equal', adjustable='box')\n",
    "plt.show()\n"
   ]
  },
  {
   "cell_type": "code",
   "execution_count": 130,
   "metadata": {},
   "outputs": [
    {
     "data": {
      "image/png": "[encoded data removed]",
      "text/plain": [
       "<Figure size 432x288 with 1 Axes>"
      ]
     },
     "metadata": {
      "needs_background": "light"
     },
     "output_type": "display_data"
    }
   ],
   "source": [
    "xx, yy = np.meshgrid(np.linspace(-5, 5, 50),\n",
    "                     np.linspace(-5, 5, 50))\n",
    "alg = euclidian_normalized(contamination=0.05)\n",
    "alg.fit(X)\n",
    "Z = alg.predict(np.c_[xx.ravel(), yy.ravel()])\n",
    "Z = Z.reshape(xx.shape)\n",
    "plt.contour(xx, yy, Z, levels=[0], linewidths=2, colors='black')\n",
    "plt.scatter(X[:,0], X[:,1])\n",
    "plt.axis([-5, 5, -5, 5])\n",
    "plt.gca().set_aspect('equal', adjustable='box')"
   ]
  },
  {
   "cell_type": "markdown",
   "metadata": {},
   "source": [
    "### The solution is to use Mahalanobis Distance\n",
    "\n",
    "The Mahalanobis distance of a point $x=(x_{1},x_{2},x_{3},\\dots ,x_{N})^{T}$ from a set of points with mean $\\mu =(\\mu _{1},\\mu _{2},\\mu _{3},\\dots ,\\mu _{N})^{T}$ and covariance matrix $S$ is defined as\n",
    "\n",
    "$$\n",
    " D(x) = \\sqrt{(x - \\mu )^T {S}^{-1} (x - \\mu) }\n",
    "$$"
   ]
  },
  {
   "cell_type": "code",
   "execution_count": 159,
   "metadata": {},
   "outputs": [],
   "source": [
    "class mahalanobis:\n",
    "    def __init__(self, contamination = 0.1):\n",
    "        self.contamination = contamination\n",
    "        \n",
    "    def fit(self, X):\n",
    "        n = X.shape[0]\n",
    "        n_conts = int(n*self.contamination)\n",
    "        self.means = np.mean(X, axis=0)\n",
    "        \n",
    "        cov = np.cov(X.T)\n",
    "        self.inv_cov = np.linalg.inv(cov)\n",
    "        x_minus_mean = X - self.means\n",
    "        d = np.dot(np.dot(x_minus_mean, self.inv_cov), x_minus_mean.T)\n",
    "        d=np.sqrt(d.diagonal())\n",
    "        s = np.argsort(d)\n",
    "        self.cutoff_dist = euc[s[n-n_conts]] \n",
    "        \n",
    "    def predict(self, X):\n",
    "        x_minus_mean = X - self.means\n",
    "        d = np.dot(np.dot(x_minus_mean, self.inv_cov), x_minus_mean.T)\n",
    "        d = np.sqrt(d.diagonal().copy())\n",
    "        for i in range(len(d)):\n",
    "            if (d[i] > self.cutoff_dist):\n",
    "                d[i] = 1\n",
    "            else:\n",
    "                d[i] = -1\n",
    "        \n",
    "        return d"
   ]
  },
  {
   "cell_type": "code",
   "execution_count": 160,
   "metadata": {},
   "outputs": [
    {
     "data": {
      "image/png": "[encoded data removed]",
      "text/plain": [
       "<Figure size 432x288 with 1 Axes>"
      ]
     },
     "metadata": {
      "needs_background": "light"
     },
     "output_type": "display_data"
    }
   ],
   "source": [
    "xx, yy = np.meshgrid(np.linspace(-5, 5, 50),\n",
    "                     np.linspace(-5, 5, 50))\n",
    "alg = mahalanobis(contamination=0.1)\n",
    "alg.fit(X)\n",
    "Z = alg.predict(np.c_[xx.ravel(), yy.ravel()])\n",
    "Z = Z.reshape(xx.shape)\n",
    "plt.contour(xx, yy, Z, levels=[0], linewidths=2, colors='black')\n",
    "plt.scatter(X[:,0], X[:,1])\n",
    "plt.axis([-5, 5, -5, 5])\n",
    "plt.gca().set_aspect('equal', adjustable='box')"
   ]
  },
  {
   "cell_type": "code",
   "execution_count": null,
   "metadata": {},
   "outputs": [],
   "source": []
  }
 ],
 "metadata": {
  "kernelspec": {
   "display_name": "Python 3",
   "language": "python",
   "name": "python3"
  },
  "language_info": {
   "codemirror_mode": {
    "name": "ipython",
    "version": 3
   },
   "file_extension": ".py",
   "mimetype": "text/x-python",
   "name": "python",
   "nbconvert_exporter": "python",
   "pygments_lexer": "ipython3",
   "version": "3.7.7"
  }
 },
 "nbformat": 4,
 "nbformat_minor": 4
}
